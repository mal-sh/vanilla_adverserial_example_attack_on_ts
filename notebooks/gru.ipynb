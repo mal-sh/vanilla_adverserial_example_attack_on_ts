{
  "nbformat": 4,
  "nbformat_minor": 0,
  "metadata": {
    "colab": {
      "name": "Copie de INF8225 - Session project - GRU.ipynb",
      "provenance": [],
      "collapsed_sections": []
    },
    "kernelspec": {
      "name": "python3",
      "display_name": "Python 3"
    },
    "language_info": {
      "name": "python"
    },
    "accelerator": "GPU"
  },
  "cells": [
    {
      "cell_type": "code",
      "metadata": {
        "id": "e27FNRL3SJ9E"
      },
      "source": [
        "import torch\n",
        "import torch.autograd as autograd\n",
        "import torch.nn as nn\n",
        "import torch.nn.functional as F\n",
        "import torch.optim as optim\n",
        "from torch.autograd import Variable\n",
        "from torch.utils.data import Dataset\n",
        "from torch.utils.data import TensorDataset, DataLoader\n",
        " \n",
        "import matplotlib.pyplot as plt\n",
        "import pickle as p\n",
        "import time\n",
        "import numpy as np\n",
        "import pandas as pd\n",
        "from tqdm import tqdm\n",
        " \n",
        "from sklearn.preprocessing import MinMaxScaler\n",
        "from sklearn.metrics import mean_squared_error,mean_absolute_error\n",
        "from sklearn.model_selection import train_test_split # to split the data into two parts\n",
        "from sklearn.model_selection import KFold # use for cross validation\n",
        "from sklearn.preprocessing import StandardScaler, OneHotEncoder\n",
        "from sklearn.pipeline import Pipeline # pipeline making\n",
        "from sklearn.model_selection import cross_val_score\n",
        "from sklearn.compose import ColumnTransformer\n",
        "from sklearn.feature_selection import SelectFromModel"
      ],
      "execution_count": 2,
      "outputs": []
    },
    {
      "cell_type": "code",
      "metadata": {
        "id": "cYEtXcfo4ILA"
      },
      "source": [
        "class GRUNet(nn.Module):\n",
        "    def __init__(self, input_dim, hidden_dim, output_dim, n_layers, drop_prob=0.2 ):\n",
        "        super(GRUNet, self).__init__()\n",
        "        self.hidden_dim = hidden_dim\n",
        "        self.n_layers = n_layers\n",
        "        \n",
        "        self.gru = nn.GRU(input_dim, hidden_dim, n_layers, batch_first=True, dropout=drop_prob)\n",
        "        self.fc = nn.Linear(hidden_dim, output_dim)\n",
        "        self.relu = nn.ReLU()\n",
        "        \n",
        "    def forward(self, x, h):\n",
        "        out, h = self.gru(x, h)\n",
        "        out = self.fc(self.relu(out[:,-1]))\n",
        "        return out, h\n",
        "    \n",
        "    def init_hidden(self, batch_size, device= torch.device('cuda' if torch.cuda.is_available() else 'cpu')):\n",
        "        weight = next(self.parameters()).data\n",
        "        hidden = weight.new(self.n_layers, batch_size, self.hidden_dim).zero_().to(device)\n",
        "        return hidden\n"
      ],
      "execution_count": 3,
      "outputs": []
    },
    {
      "cell_type": "code",
      "metadata": {
        "id": "XTVi9oFN4L4t"
      },
      "source": [
        "# code taken from: https://github.com/JulesBelveze/time-series-autoencoder/blob/2c00b373ca422435ae56199ec964984df337c455/tsa/dataset.py#L8\n",
        "\n",
        "class TimeSeriesDataset(object):\n",
        "    def __init__(self, data, target_col, seq_length, prediction_window=1):\n",
        "        '''\n",
        "        :param data: dataset of type pandas.DataFrame\n",
        "        :param categorical_cols: name of the categorical columns, if None pass empty list\n",
        "        :param target_col: name of the targeted column\n",
        "        :param seq_length: window length to use\n",
        "        :param prediction_window: window length to predict\n",
        "        '''\n",
        "        self.data = data\n",
        "        self.numerical_cols = list(set(data.columns) - set(target_col))\n",
        "        self.target_col = target_col\n",
        "        self.seq_length = seq_length\n",
        "        self.prediction_window = prediction_window\n",
        "        self.preprocessor = None\n",
        "\n",
        "    def preprocess_data(self):\n",
        "        '''Preprocessing function'''\n",
        "        X = self.data.drop(self.target_col, axis=1)\n",
        "        y = self.data[self.target_col]\n",
        "\n",
        "        self.preprocessor = ColumnTransformer(\n",
        "            [(\"scaler\", StandardScaler(), self.numerical_cols),\n",
        "             ],\n",
        "            remainder=\"passthrough\"\n",
        "        )\n",
        "\n",
        "        X_train, X_test, y_train, y_test = train_test_split(X, y, train_size=0.8, shuffle=False)\n",
        "        X_train = self.preprocessor.fit_transform(X_train)\n",
        "        X_test = self.preprocessor.transform(X_test)\n",
        "\n",
        "        if self.target_col:\n",
        "            return X_train, X_test, y_train.values, y_test.values\n",
        "        return X_train, X_test\n",
        "\n",
        "    def frame_series(self, X, y=None):\n",
        "        '''\n",
        "        Function used to prepare the data for time series prediction\n",
        "        :param X: set of features\n",
        "        :param y: targeted value to predict\n",
        "        :return: TensorDataset\n",
        "        '''\n",
        "        nb_obs, nb_features = X.shape\n",
        "        features, target, y_hist = [], [], []\n",
        "\n",
        "        for i in range(1, nb_obs - self.seq_length - self.prediction_window):\n",
        "            features.append(torch.FloatTensor(X[i:i + self.seq_length, :]).unsqueeze(0))\n",
        "            # lagged output used for prediction\n",
        "            y_hist.append(\n",
        "                torch.FloatTensor(y[i - 1:i + self.seq_length - 1]).unsqueeze(0))\n",
        "\n",
        "        features_var, y_hist_var = torch.cat(features), torch.cat(y_hist)\n",
        "\n",
        "        if y is not None:\n",
        "            for i in range(1, nb_obs - self.seq_length - self.prediction_window):\n",
        "                target.append(\n",
        "                    torch.FloatTensor(y[i + self.seq_length:i + self.seq_length + self.prediction_window]))\n",
        "            target_var = torch.cat(target)\n",
        "            return TensorDataset(features_var, y_hist_var, target_var)\n",
        "\n",
        "        return TensorDataset(features_var)\n",
        "\n",
        "    def get_loaders(self, batch_size: int):\n",
        "        '''\n",
        "        Preprocess and frame the dataset\n",
        "        :param batch_size: batch size\n",
        "        :return: DataLoaders associated to training and testing data\n",
        "        '''\n",
        "        X_train, X_test, y_train, y_test = self.preprocess_data()\n",
        "        nb_features = X_train.shape[1]\n",
        "\n",
        "        train_dataset = self.frame_series(X_train, y_train)\n",
        "        test_dataset = self.frame_series(X_test, y_test)\n",
        "\n",
        "        train_iter = DataLoader(train_dataset, batch_size=batch_size, shuffle=False, drop_last=True)\n",
        "        test_iter = DataLoader(test_dataset, batch_size=batch_size, shuffle=False, drop_last=True)\n",
        "        return train_iter, test_iter, nb_features\n"
      ],
      "execution_count": 4,
      "outputs": []
    },
    {
      "cell_type": "code",
      "metadata": {
        "id": "5GVHXg964PRL"
      },
      "source": [
        "def calculateRMSE(y, y_pred):\n",
        "    return np.sqrt(mean_squared_error(y,y_pred))\n",
        "\n",
        "\n",
        "def calculateMAE(y, y_pred):\n",
        "    return mean_absolute_error(y, y_pred)"
      ],
      "execution_count": 5,
      "outputs": []
    },
    {
      "cell_type": "code",
      "metadata": {
        "colab": {
          "base_uri": "https://localhost:8080/"
        },
        "id": "LyjQgO7F4ToN",
        "outputId": "40691cbd-b1bc-4d1e-960d-f8fed85d475e"
      },
      "source": [
        "from google.colab import drive\n",
        "drive.mount('/gdrive')\n"
      ],
      "execution_count": null,
      "outputs": [
        {
          "output_type": "stream",
          "text": [
            "Drive already mounted at /gdrive; to attempt to forcibly remount, call drive.mount(\"/gdrive\", force_remount=True).\n"
          ],
          "name": "stdout"
        }
      ]
    },
    {
      "cell_type": "code",
      "metadata": {
        "id": "AOp5sug04dtD"
      },
      "source": [
        "\n",
        "df = pd.read_csv('aaxj.us.txt', sep=',',\n",
        "                 infer_datetime_format=True,\n",
        "                 low_memory=False, na_values=['nan','?'],index_col='Date')\n",
        "\n"
      ],
      "execution_count": 8,
      "outputs": []
    },
    {
      "cell_type": "code",
      "metadata": {
        "colab": {
          "base_uri": "https://localhost:8080/"
        },
        "id": "UXFC3vyuUn1L",
        "outputId": "711104e8-d58d-4a15-f379-5676ec626c6c"
      },
      "source": [
        "print(df)"
      ],
      "execution_count": 9,
      "outputs": [
        {
          "output_type": "stream",
          "text": [
            "              Open    High     Low   Close   Volume  OpenInt\n",
            "Date                                                        \n",
            "2008-08-15  44.886  44.886  44.886  44.886      112        0\n",
            "2008-08-18  44.564  44.564  43.875  43.875    28497        0\n",
            "2008-08-19  43.283  43.283  43.283  43.283      112        0\n",
            "2008-08-20  43.918  43.918  43.892  43.892     4468        0\n",
            "2008-08-22  44.097  44.097  44.017  44.071     4006        0\n",
            "...            ...     ...     ...     ...      ...      ...\n",
            "2017-11-06  75.900  76.530  75.890  76.530  1313730        0\n",
            "2017-11-07  76.490  76.580  76.090  76.185  1627277        0\n",
            "2017-11-08  76.370  76.590  76.290  76.570   681128        0\n",
            "2017-11-09  76.040  76.200  75.580  76.110  1261567        0\n",
            "2017-11-10  76.110  76.150  75.870  76.080   619687        0\n",
            "\n",
            "[2325 rows x 6 columns]\n"
          ],
          "name": "stdout"
        }
      ]
    },
    {
      "cell_type": "code",
      "metadata": {
        "colab": {
          "base_uri": "https://localhost:8080/"
        },
        "id": "X4fTt8H34iQq",
        "outputId": "208ea931-f866-492e-d2e8-7b7267f52c82"
      },
      "source": [
        "## finding all columns that have nan:\n",
        "\n",
        "droping_list_all=[]\n",
        "for j in range(0,4):\n",
        "    if not df.iloc[:, j].notnull().all():\n",
        "        droping_list_all.append(j)\n",
        "        #print(df.iloc[:,j].unique())\n",
        "droping_list_all\n",
        "\n",
        "# filling nan with mean in any columns\n",
        "\n",
        "\n",
        "# another sanity check to make sure that there are not more any nan\n",
        "df.isnull().sum()"
      ],
      "execution_count": 10,
      "outputs": [
        {
          "output_type": "execute_result",
          "data": {
            "text/plain": [
              "Open       0\n",
              "High       0\n",
              "Low        0\n",
              "Close      0\n",
              "Volume     0\n",
              "OpenInt    0\n",
              "dtype: int64"
            ]
          },
          "metadata": {
            "tags": []
          },
          "execution_count": 10
        }
      ]
    },
    {
      "cell_type": "code",
      "metadata": {
        "colab": {
          "base_uri": "https://localhost:8080/"
        },
        "id": "MNxcfWC34kV8",
        "outputId": "bc5beab4-ebcd-4c33-ec55-b96dd1a9d5d3"
      },
      "source": [
        "## resampling of data over days\n",
        "print(df.columns)"
      ],
      "execution_count": 11,
      "outputs": [
        {
          "output_type": "stream",
          "text": [
            "Index(['Open', 'High', 'Low', 'Close', 'Volume', 'OpenInt'], dtype='object')\n"
          ],
          "name": "stdout"
        }
      ]
    },
    {
      "cell_type": "code",
      "metadata": {
        "id": "3BLOhIZ74l0W"
      },
      "source": [
        "\n",
        "batch_size = 32\n",
        "lookback_period = 12\n",
        "prediction_window = 1\n",
        "input_size = len(df.columns) - 1 "
      ],
      "execution_count": 12,
      "outputs": []
    },
    {
      "cell_type": "code",
      "metadata": {
        "id": "KgDOOHaU4m7T"
      },
      "source": [
        "ts = TimeSeriesDataset(\n",
        "    data=df,\n",
        "    target_col=['Open'], # target column we want to predict\n",
        "    seq_length=lookback_period, #look back period\n",
        "    prediction_window=prediction_window \n",
        ")\n"
      ],
      "execution_count": 13,
      "outputs": []
    },
    {
      "cell_type": "code",
      "metadata": {
        "id": "plaZ3KdI4oZj"
      },
      "source": [
        "\n",
        "train_iter, test_iter, nb_features = ts.get_loaders(batch_size=batch_size)"
      ],
      "execution_count": 14,
      "outputs": []
    },
    {
      "cell_type": "code",
      "metadata": {
        "id": "AWhyLlH74pcC"
      },
      "source": [
        "def train(train_loader, learn_rate, hidden_dim=5, EPOCHS=5, model_type=\"GRU\"):\n",
        "    \n",
        "    # Setting common hyperparameters\n",
        "    input_dim = next(iter(train_loader))[0].shape[2]\n",
        "    output_dim = 1\n",
        "    n_layers = 3\n",
        "    # Instantiating the models\n",
        "    model = GRUNet(input_dim, hidden_dim, output_dim, n_layers)\n",
        "    model.to(device)\n",
        "    \n",
        "    # Defining loss function and optimizer\n",
        "    criterion = nn.MSELoss()\n",
        "    optimizer = torch.optim.Adam(model.parameters(), lr=learn_rate)\n",
        "    \n",
        "    model.train()\n",
        "    print(\"Starting Training of {} model\".format(model_type))\n",
        "    epoch_times = []\n",
        "    # Start training loop\n",
        "    for epoch in range(1,EPOCHS+1):\n",
        "        h = model.init_hidden(batch_size)\n",
        "        avg_loss = 0.\n",
        "        counter = 0\n",
        "        for x, _,label in train_loader:\n",
        "            counter += 1\n",
        "            \n",
        "            h = h.data\n",
        "            model.zero_grad()\n",
        "            \n",
        "            out, h = model(x.to(device).float(), h)\n",
        "            loss = criterion(out, label.to(device).float())\n",
        "            loss.backward()\n",
        "            optimizer.step()\n",
        "            avg_loss += loss.item()\n",
        "        if epoch%100 == 0:\n",
        "          print(\"Epoch {}/{} Done, Total Loss: {}\".format(epoch, EPOCHS, avg_loss/len(train_loader)))\n",
        "    return model, criterion\n"
      ],
      "execution_count": 15,
      "outputs": []
    },
    {
      "cell_type": "code",
      "metadata": {
        "colab": {
          "base_uri": "https://localhost:8080/"
        },
        "id": "179_jFUq4q0C",
        "outputId": "bfbfdfdd-c72f-4932-ff2d-946bb29868d4"
      },
      "source": [
        "device = torch.device('cuda' if torch.cuda.is_available() else 'cpu')\n",
        "lr = 0.001\n",
        "\n",
        "gru_model, lossFn = train(train_iter, lr, EPOCHS=1000, model_type=\"GRU\")"
      ],
      "execution_count": 16,
      "outputs": [
        {
          "output_type": "stream",
          "text": [
            "Starting Training of GRU model\n",
            "Epoch 100/1000 Done, Total Loss: 1248.161431429679\n",
            "Epoch 200/1000 Done, Total Loss: 448.07958663137333\n",
            "Epoch 300/1000 Done, Total Loss: 92.8822213934179\n",
            "Epoch 400/1000 Done, Total Loss: 12.550576604772033\n",
            "Epoch 500/1000 Done, Total Loss: 4.900584537209126\n",
            "Epoch 600/1000 Done, Total Loss: 3.9197553526936915\n",
            "Epoch 700/1000 Done, Total Loss: 1.4368694435086167\n",
            "Epoch 800/1000 Done, Total Loss: 1.8621414779571064\n",
            "Epoch 900/1000 Done, Total Loss: 1.0880066514538045\n",
            "Epoch 1000/1000 Done, Total Loss: 0.8448147402520765\n"
          ],
          "name": "stdout"
        }
      ]
    },
    {
      "cell_type": "code",
      "metadata": {
        "colab": {
          "base_uri": "https://localhost:8080/"
        },
        "id": "EaQkypgoIQ5j",
        "outputId": "d51ca2c8-d7f7-482f-e2e0-e2c54bb48787"
      },
      "source": [
        "# TEST\n",
        "gru_model.eval()\n",
        "\n",
        "outputs = np.ndarray((32,))\n",
        "targets = np.ndarray((32,))\n",
        "\n",
        "for batch_idx, batch in enumerate(test_iter):\n",
        "        feature, y_hist, target = batch\n",
        "        \n",
        "        h = gru_model.init_hidden(feature.shape[0]) #batch size\n",
        "        \n",
        "        out, h = gru_model(feature.to(device).float(), h)\n",
        "        outputs = np.hstack((outputs, out.cpu().detach().numpy().reshape(-1)))\n",
        "        targets = np.hstack((targets, target.numpy().reshape(-1)))\n",
        "outputs = outputs[32:]\n",
        "targets = targets[32:]\n",
        "print('Test RMSE: %.3f' % calculateRMSE(outputs, targets))"
      ],
      "execution_count": 17,
      "outputs": [
        {
          "output_type": "stream",
          "text": [
            "Test RMSE: 4.673\n"
          ],
          "name": "stdout"
        }
      ]
    },
    {
      "cell_type": "code",
      "metadata": {
        "colab": {
          "base_uri": "https://localhost:8080/",
          "height": 309
        },
        "id": "aoZLrQ6O4vJy",
        "outputId": "13f754f4-120e-4085-f121-dbaa831f86df"
      },
      "source": [
        "# Plot Range\n",
        "plot_start, plot_end = 0, 280\n",
        "\n",
        "plt.figure(figsize=(10,10))\n",
        "plt.subplot(2,2,1)\n",
        "plt.plot(targets[plot_start:plot_end], color=\"b\", label=\"Ground Truth\")\n",
        "plt.plot(outputs[plot_start:plot_end],  color=\"r\", label=\"Predicted\")\n",
        "plt.ylabel('Next Day Open Price')\n",
        "plt.xlabel('Time Steps in days')\n",
        "plt.legend()\n",
        "plt.show()"
      ],
      "execution_count": 18,
      "outputs": [
        {
          "output_type": "display_data",
          "data": {
            "image/png": "[encoded data removed]",
            "text/plain": [
              "<Figure size 720x720 with 1 Axes>"
            ]
          },
          "metadata": {
            "tags": [],
            "needs_background": "light"
          }
        }
      ]
    },
    {
      "cell_type": "code",
      "metadata": {
        "id": "YLecYWWA4wGy"
      },
      "source": [
        "def get_model_gradients(model, test_loader, loss_fn):\n",
        "\n",
        "    model = model.train()\n",
        "\n",
        "    grads = []\n",
        "\n",
        "    h = model.init_hidden(batch_size)  # batch size\n",
        "\n",
        "    for data, _, target in test_loader:\n",
        "\n",
        "        # Set requires_grad attribute of tensor. Important for Attack\n",
        "        data.requires_grad = True\n",
        "\n",
        "        # Forward pass the data through the model\n",
        "        output, _ = model(data.to(device).float(), h)\n",
        "\n",
        "        # Calculate the loss\n",
        "        loss = loss_fn(output.to(device).float(), target.to(device).float())\n",
        "\n",
        "        # Zero all existing gradients\n",
        "        model.zero_grad()\n",
        "\n",
        "        # Calculate gradients of model in backward pass\n",
        "        loss.backward()\n",
        "\n",
        "        # Collect datagrad\n",
        "        data_grad = data.grad.data\n",
        "\n",
        "        # Append to Grads\n",
        "        grads.append(data_grad)\n",
        "\n",
        "    target_grads = torch.cat(grads)\n",
        "\n",
        "    return TensorDataset(target_grads)\n"
      ],
      "execution_count": 19,
      "outputs": []
    },
    {
      "cell_type": "code",
      "metadata": {
        "id": "_RbSSbLOOXSY"
      },
      "source": [
        "def FGSM(model, test_iter, loss_fn, eps):\n",
        "  adversarial_examples = np.ndarray((32, 12, 5))\n",
        "  adversarial_predictions = np.ndarray((32, 1))\n",
        "  grad_iter = get_model_gradients(model, test_iter, loss_fn)\n",
        "\n",
        "  for i, data in enumerate(zip(test_iter, grad_iter)):\n",
        "      h = gru_model.init_hidden(batch_size) #batch size\n",
        "      adverserial_examples_batch = data[0][0] + eps * data[1][0].sign()\n",
        "      pred, _ = gru_model(adverserial_examples_batch.to(device).float(), h)\n",
        "\n",
        "      adversarial_examples = np.vstack((adversarial_examples, adverserial_examples_batch))\n",
        "      adversarial_predictions = np.vstack((adversarial_predictions, pred.detach().cpu().numpy()))\n",
        "\n",
        "  return adversarial_examples, adversarial_predictions"
      ],
      "execution_count": 21,
      "outputs": []
    },
    {
      "cell_type": "code",
      "metadata": {
        "id": "dtImmyvZO6iT"
      },
      "source": [
        "def BIM(model, test_iter, loss_fn, eps, nb_iter):\n",
        "  adversarial_examples = np.ndarray((32, 12, 5))\n",
        "  adversarial_predictions = np.ndarray((32, 1))\n",
        "  adv_iter = test_iter\n",
        "\n",
        " \n",
        "  for adverserial_examples_batch in test_iter:\n",
        "    for j in range(nb_iter):\n",
        "      grads= get_model_gradients(model, [adverserial_examples_batch], loss_fn)\n",
        "      h = gru_model.init_hidden(batch_size) #batch size\n",
        "      with torch.no_grad():\n",
        "        adverserial_examples_batch[0] += eps/nb_iter * grads[0][0].sign()\n",
        "        ae = adverserial_examples_batch[0]\n",
        "        pred, _ = gru_model(ae.to(device).float(), h)\n",
        "        if j == nb_iter -1:\n",
        "          adversarial_examples = np.vstack((adversarial_examples, ae))\n",
        "          adversarial_predictions = np.vstack((adversarial_predictions, pred.detach().cpu().numpy()))\n",
        "\n",
        "  return adversarial_examples, adversarial_predictions"
      ],
      "execution_count": 22,
      "outputs": []
    },
    {
      "cell_type": "code",
      "metadata": {
        "id": "13wzxLGZiZjd"
      },
      "source": [
        "test = np.empty((32, 12, 5))\n",
        "for t in test_iter:\n",
        "  test = np.concatenate((test, t[0]))"
      ],
      "execution_count": 23,
      "outputs": []
    },
    {
      "cell_type": "code",
      "metadata": {
        "colab": {
          "base_uri": "https://localhost:8080/"
        },
        "id": "AzZt9ZKQ4yNk",
        "outputId": "7a217b35-c4c6-4164-bd63-86fb77c929c7"
      },
      "source": [
        "adv_exp_fgsm, adv_prd_fgsm = FGSM(gru_model, test_iter, lossFn, eps=0.1)\n",
        "adv_exp_bim, adv_prd_bim = BIM(gru_model, test_iter, lossFn, eps=0.1, nb_iter=100)\n",
        "print('Test RMSE: %.3f' % calculateRMSE(outputs, targets))\n",
        "print('FGSM RMSE: %.3f' % calculateRMSE(adv_prd_fgsm[:448], targets))\n",
        "print('BIM RMSE: %.3f' % calculateRMSE(adv_prd_bim[:448], targets))"
      ],
      "execution_count": 24,
      "outputs": [
        {
          "output_type": "stream",
          "text": [
            "Test RMSE: 4.673\n",
            "FGSM RMSE: 14.490\n",
            "BIM RMSE: 14.549\n"
          ],
          "name": "stdout"
        }
      ]
    },
    {
      "cell_type": "code",
      "metadata": {
        "id": "prrc5d2a4y-4",
        "colab": {
          "base_uri": "https://localhost:8080/",
          "height": 309
        },
        "outputId": "ef0ae619-b806-488a-871b-9dece36f9371"
      },
      "source": [
        "# Plot Range\n",
        "plot_start, plot_end = 120, 270\n",
        "\n",
        "plt.figure(figsize=(10,10))\n",
        "plt.subplot(2,2,1)\n",
        "plt.plot(targets[plot_start:plot_end],color=\"g\", label=\"Ground Truth\")\n",
        "plt.plot(outputs[plot_start:plot_end], color=\"c\", label=\"Predicted\")\n",
        "plt.plot(adv_prd_fgsm[plot_start:plot_end], color=\"r\", label=\"FGSM\")\n",
        "plt.plot(adv_prd_bim[plot_start:plot_end], color=\"b\", label=\"BIM\")\n",
        "plt.ylabel('Next Day Open Price')\n",
        "plt.xlabel('Time Steps in days')\n",
        "plt.legend()\n",
        "plt.show()"
      ],
      "execution_count": 25,
      "outputs": [
        {
          "output_type": "display_data",
          "data": {
            "image/png": "[encoded data removed]",
            "text/plain": [
              "<Figure size 720x720 with 1 Axes>"
            ]
          },
          "metadata": {
            "tags": [],
            "needs_background": "light"
          }
        }
      ]
    },
    {
      "cell_type": "code",
      "metadata": {
        "id": "fOpBVUZFiKdl"
      },
      "source": [
        "adv_results = pd.DataFrame(index=['RMSE', \n",
        "                                  'Mean perturbed features   [Mean L0]', \n",
        "                                  'Max perturbed features    [Max  L0]', \n",
        "                                  'Mean Euclidiant distance  [Mean L2]', \n",
        "                                  'Max Euclidiant distance   [Max  L2]', \n",
        "                                  'Mean Maximum perturbation [Mean Li]', \n",
        "                                  'Max Maximum perturbation  [Max  Li]'])\n",
        "\n",
        "\n",
        "def adv_norms(x_test_cpu, adversarial_examples_cpu):\n",
        "    mean_l0 = np.mean(np.sum(x_test_cpu != adversarial_examples_cpu, axis=1))\n",
        "    max_l0 = np.max(np.sum(x_test_cpu != adversarial_examples_cpu, axis=1))\n",
        "    mean_l2 = np.mean(np.sum(np.power(x_test_cpu - adversarial_examples_cpu, 2), axis=1, keepdims=True))\n",
        "    max_l2 = np.max(np.sum(np.power(x_test_cpu - adversarial_examples_cpu, 2), axis=1, keepdims=True))\n",
        "    mean_li = np.mean(np.max(np.abs(x_test_cpu - adversarial_examples_cpu), axis=1, keepdims=True))\n",
        "    max_li = np.max(np.max(np.abs(x_test_cpu - adversarial_examples_cpu), axis=1, keepdims=True))\n",
        "    return [mean_l0, max_l0, mean_l2, max_l2, mean_li, max_li]"
      ],
      "execution_count": 26,
      "outputs": []
    },
    {
      "cell_type": "code",
      "metadata": {
        "colab": {
          "base_uri": "https://localhost:8080/"
        },
        "id": "-jCxYA2jiK8X",
        "outputId": "5a12996e-e235-4ad2-91e2-4a4cc20cc5ed"
      },
      "source": [
        "adv_norms(test.reshape(28800, -1), adv_exp_fgsm.reshape(28800, -1))"
      ],
      "execution_count": 27,
      "outputs": [
        {
          "output_type": "execute_result",
          "data": {
            "text/plain": [
              "[0.9333333333333333,\n",
              " 1,\n",
              " 0.009333332573066136,\n",
              " 0.01000000476837215,\n",
              " 0.09333332953199108,\n",
              " 0.10000002384185791]"
            ]
          },
          "metadata": {
            "tags": []
          },
          "execution_count": 27
        }
      ]
    },
    {
      "cell_type": "code",
      "metadata": {
        "id": "RW1MtiBn5INH"
      },
      "source": [
        ""
      ],
      "execution_count": null,
      "outputs": []
    }
  ]
}